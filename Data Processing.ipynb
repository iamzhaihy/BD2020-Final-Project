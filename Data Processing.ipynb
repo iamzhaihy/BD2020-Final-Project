{
 "cells": [
  {
   "cell_type": "code",
   "execution_count": 1,
   "metadata": {},
   "outputs": [],
   "source": [
    "import numpy as np\n",
    "import pandas as pd\n",
    "from datetime import date\n",
    "from functools import reduce"
   ]
  },
  {
   "cell_type": "markdown",
   "metadata": {},
   "source": [
    "## Datasets Used\n",
    "\n",
    "In the `data` folder, we include a `datasets_used.csv` to keep track of the datasets we find useful. Many datasets are updated regulary, so we also include the date we retrieved the dataset for better reproducibility. If the dataset is provided on Github, we include the link to the specific version we are using."
   ]
  },
  {
   "cell_type": "markdown",
   "metadata": {},
   "source": [
    "| name | local_path | url | date_retrieved | \n",
    "| :-- | :--- | :--- | :--- | \n",
    "| `covid-tracking-states-current` | covid-tracking/states_current.csv | https://github.com/COVID19Tracking/covid-tracking-data/blob/05363f00ed663709c54b066722094f966dddd1bc/data/states_current.csv  | 2020-04-23 |\n",
    "| `covid-tracking-states-daily` | covid-tracking/states_daily_4pm_et.csv | https://github.com/COVID19Tracking/covid-tracking-data/blob/05363f00ed663709c54b066722094f966dddd1bc/data/states_daily_4pm_et.csv | 2020-04-23 | \n",
    "| `covid-tracking-us-current` | covid-tracking/us_current.csv | https://github.com/COVID19Tracking/covid-tracking-data/blob/05363f00ed663709c54b066722094f966dddd1bc/data/us_current.csv | 2020-04-23 | \n",
    "| `covid-tracking-us-daily` | covid-tracking/us_daily.csv | https://github.com/COVID19Tracking/covid-tracking-data/blob/05363f00ed663709c54b066722094f966dddd1bc/data/us_daily.csv | 2020-04-23 | \n",
    "| `khn-icu-beds-by-county` | khn/data-FPBfZ.csv  | https://khn.org/news/as-coronavirus-spreads-widely-millions-of-older-americans-live-in-counties-with-no-icu-beds/ | 2020-04-21 | \n",
    "| `khn-hospital-by-county` | khn/KHN_ICU_bed_county_analysis_2.csv | https://khn.org/wp-content/uploads/sites/2/2020/03/KHN-ICU-bed-county-analysis_2.zip | 2020-04-21 | \n",
    "| `kff-state-actions`| kff/raw_data.csv | https://www.kff.org/health-costs/issue-brief/state-data-and-policy-actions-to-address-coronavirus/#stateleveldata  | 2020-04-24  |\n",
    "| `kff-state-health-policy-actions` | kff/health_policy_actions.csv | https://www.kff.org/health-costs/issue-brief/state-data-and-policy-actions-to-address-coronavirus/#stateleveldata | 2020-04-10 |\n",
    "| `wiki-state-regulations` | wiki/state_regulations | https://en.m.wikipedia.org/wiki/U.S.\\_state_and_local_government_response_to_the_2020_coronavirus_pandemic | 2020-04-24 |\n",
    "| `world-bank-hospital-beds`  | world-bank/API_SH.MED.BEDS.ZS_DS2_en_csv_v2_988924.csv | https://data.worldbank.org/indicator/SH.MED.BEDS.ZS  | 2020-04-24 |\n",
    "| `world-bank-physicians` | world-bank/API_SH.MED.PHYS.ZS_DS2_en_csv_v2_993645.csv | https://data.worldbank.org/indicator/SH.MED.PHYS.ZS | 2020-04-24 | \n",
    "| `world-bank-nurses` | world-bank/API_SH.MED.NUMW.P3_DS2_en_csv_v2_993722.csv | https://data.worldbank.org/indicator/SH.MED.NUMW.P3 | 2020-04-24 | \n",
    "| `world-bank-specialist-surgical-workforce` | world-bank/API_SH.MED.SAOP.P5_DS2_en_csv_v2_993706.csv | https://data.worldbank.org/indicator/SH.MED.SAOP.P5 | 2020-04-24 | \n",
    "| `world-bank-elderly-population` | world-bank/API_SP.POP.65UP.TO.ZS_DS2_en_csv_v2_988979.csv | https://data.worldbank.org/indicator/SP.POP.65UP.TO.ZS?view=chart | 2020-04-24 | \n",
    "| `oxford-government-responses` | oxford/OxCGRT_Download_240420_164803_Full.csv | https://www.bsg.ox.ac.uk/research/research-projects/coronavirus-government-response-tracker | 2020-04-24 | \n",
    "| `jhu-global-confirmed` | jhu-csse/time_series_covid19_confirmed_global.csv | https://github.com/CSSEGISandData/COVID-19/blob/fef4e485ca4d46cd05deb5dc3a8e74e806bc9364/csse_covid_19_data/csse_covid_19_time_series/time_series_covid19_confirmed_global.csv | 2020-04-24 | \n",
    "| `jhu-global-recovered` | jhu-csse/time_series_covid19_recovered_global.csv | https://github.com/CSSEGISandData/COVID-19/blob/fef4e485ca4d46cd05deb5dc3a8e74e806bc9364/csse_covid_19_data/csse_covid_19_time_series/time_series_covid19_recovered_global.csv | 2020-04-24 | \n",
    "| `jhu-global-death` | jhu-csse/time_series_covid19_deaths_global.csv | https://github.com/CSSEGISandData/COVID-19/blob/fef4e485ca4d46cd05deb5dc3a8e74e806bc9364/csse_covid_19_data/csse_covid_19_time_series/time_series_covid19_deaths_global.csv    | 2020-04-24 | "
   ]
  },
  {
   "cell_type": "markdown",
   "metadata": {},
   "source": [
    "We kept the original name of the datasets, and only performed necessary actions:\n",
    "\n",
    "- All dataset from World Bank have metadata at the top (line 1-4). We removed those lines.\n",
    "- `kff/raw_data.csv` includes some extra information in the spreadsheet (line 1-2, 56-71), which cause errors. We removed those lines from the table."
   ]
  },
  {
   "cell_type": "markdown",
   "metadata": {},
   "source": [
    "# Processing Country Level Data\n",
    "\n",
    "At the country level, we are creating two tables `country_indicators.csv` and `country_responses.csv`. For the first table, we will collect the following information for each country:\n",
    "\n",
    "| name  | meaning  | source  |\n",
    "| :---- | :------- | :------ |\n",
    "| `country_name` | the name of the country/region | `world-bank-hospital-beds` |\n",
    "| `country_code` | the ISO 3 country code | `world-bank-hospital-beds` |\n",
    "| `hospital_beds_per_1000` | number of hospital beds per 1000 people          |`world-bank-hospital-beds`     |\n",
    "| `physicians_per_1000`   | number of physicians per 1000 people            |`world-bank-physicians`       |\n",
    "| `nurses_per_1000`      | number of nurses and midwives per 1000 people      |`world-bank-nurses`          |\n",
    "| `percentage_65up`      | population ages 65 and above (% of total population) |`world-bank-elderly-population`  |"
   ]
  },
  {
   "cell_type": "code",
   "execution_count": 2,
   "metadata": {},
   "outputs": [
    {
     "output_type": "execute_result",
     "data": {
      "text/plain": "  Country Name  hospital_beds_per_1000\n0        Aruba                     NaN\n1  Afghanistan                     0.5\n2       Angola                     0.8",
      "text/html": "<div>\n<style scoped>\n    .dataframe tbody tr th:only-of-type {\n        vertical-align: middle;\n    }\n\n    .dataframe tbody tr th {\n        vertical-align: top;\n    }\n\n    .dataframe thead th {\n        text-align: right;\n    }\n</style>\n<table border=\"1\" class=\"dataframe\">\n  <thead>\n    <tr style=\"text-align: right;\">\n      <th></th>\n      <th>Country Name</th>\n      <th>hospital_beds_per_1000</th>\n    </tr>\n  </thead>\n  <tbody>\n    <tr>\n      <th>0</th>\n      <td>Aruba</td>\n      <td>NaN</td>\n    </tr>\n    <tr>\n      <th>1</th>\n      <td>Afghanistan</td>\n      <td>0.5</td>\n    </tr>\n    <tr>\n      <th>2</th>\n      <td>Angola</td>\n      <td>0.8</td>\n    </tr>\n  </tbody>\n</table>\n</div>"
     },
     "metadata": {},
     "execution_count": 2
    }
   ],
   "source": [
    "# extract indicator SH.MED.BEDS.ZScountry_responses\n",
    "hospital_beds_df = pd.read_csv('./data/world-bank/API_SH.MED.BEDS.ZS_DS2_en_csv_v2_988924.csv')\n",
    "\n",
    "latest_numbers = []\n",
    "for idx, row in hospital_beds_df.iterrows():\n",
    "    latest = np.nan\n",
    "    for y in range(2019,1959, -1):\n",
    "        if pd.notnull(row[str(y)]):\n",
    "            latest = row[str(y)]\n",
    "            break\n",
    "    latest_numbers.append(latest)\n",
    "\n",
    "hospital_beds_df['hospital_beds_per_1000'] = pd.Series(latest_numbers)\n",
    "hospital_beds = hospital_beds_df[['Country Name', 'hospital_beds_per_1000']]\n",
    "\n",
    "hospital_beds.head(3)"
   ]
  },
  {
   "cell_type": "code",
   "execution_count": 3,
   "metadata": {},
   "outputs": [
    {
     "output_type": "execute_result",
     "data": {
      "text/plain": "  Country Name  physicians_per_1000\n0        Aruba               1.1200\n1  Afghanistan               0.2840\n2       Angola               0.2149",
      "text/html": "<div>\n<style scoped>\n    .dataframe tbody tr th:only-of-type {\n        vertical-align: middle;\n    }\n\n    .dataframe tbody tr th {\n        vertical-align: top;\n    }\n\n    .dataframe thead th {\n        text-align: right;\n    }\n</style>\n<table border=\"1\" class=\"dataframe\">\n  <thead>\n    <tr style=\"text-align: right;\">\n      <th></th>\n      <th>Country Name</th>\n      <th>physicians_per_1000</th>\n    </tr>\n  </thead>\n  <tbody>\n    <tr>\n      <th>0</th>\n      <td>Aruba</td>\n      <td>1.1200</td>\n    </tr>\n    <tr>\n      <th>1</th>\n      <td>Afghanistan</td>\n      <td>0.2840</td>\n    </tr>\n    <tr>\n      <th>2</th>\n      <td>Angola</td>\n      <td>0.2149</td>\n    </tr>\n  </tbody>\n</table>\n</div>"
     },
     "metadata": {},
     "execution_count": 3
    }
   ],
   "source": [
    "# extract indicator SH.MED.PHYS.ZS\n",
    "physicians_df = pd.read_csv('./data/world-bank/API_SH.MED.PHYS.ZS_DS2_en_csv_v2_993645.csv')\n",
    "\n",
    "latest_numbers = []\n",
    "for idx, row in physicians_df.iterrows():\n",
    "    latest = np.nan\n",
    "    for y in range(2019,1959, -1):\n",
    "        if pd.notnull(row[str(y)]):\n",
    "            latest = row[str(y)]\n",
    "            break\n",
    "    latest_numbers.append(latest)\n",
    "\n",
    "physicians_df['physicians_per_1000'] = pd.Series(latest_numbers)\n",
    "physicians = physicians_df[['Country Name', 'physicians_per_1000']]\n",
    "\n",
    "physicians.head(3)"
   ]
  },
  {
   "cell_type": "code",
   "execution_count": 4,
   "metadata": {},
   "outputs": [
    {
     "output_type": "execute_result",
     "data": {
      "text/plain": "  Country Name  nurses_per_1000\n0        Aruba              NaN\n1  Afghanistan           0.3200\n2       Angola           1.3123",
      "text/html": "<div>\n<style scoped>\n    .dataframe tbody tr th:only-of-type {\n        vertical-align: middle;\n    }\n\n    .dataframe tbody tr th {\n        vertical-align: top;\n    }\n\n    .dataframe thead th {\n        text-align: right;\n    }\n</style>\n<table border=\"1\" class=\"dataframe\">\n  <thead>\n    <tr style=\"text-align: right;\">\n      <th></th>\n      <th>Country Name</th>\n      <th>nurses_per_1000</th>\n    </tr>\n  </thead>\n  <tbody>\n    <tr>\n      <th>0</th>\n      <td>Aruba</td>\n      <td>NaN</td>\n    </tr>\n    <tr>\n      <th>1</th>\n      <td>Afghanistan</td>\n      <td>0.3200</td>\n    </tr>\n    <tr>\n      <th>2</th>\n      <td>Angola</td>\n      <td>1.3123</td>\n    </tr>\n  </tbody>\n</table>\n</div>"
     },
     "metadata": {},
     "execution_count": 4
    }
   ],
   "source": [
    "# extract indicator SH.MED.NUMW.P3\n",
    "nurses_df = pd.read_csv('./data/world-bank/API_SH.MED.NUMW.P3_DS2_en_csv_v2_993722.csv')\n",
    "\n",
    "latest_numbers = []\n",
    "for idx, row in nurses_df.iterrows():\n",
    "    latest = np.nan\n",
    "    for y in range(2019,1959, -1):\n",
    "        if pd.notnull(row[str(y)]):\n",
    "            latest = row[str(y)]\n",
    "            break\n",
    "    latest_numbers.append(latest)\n",
    "\n",
    "nurses_df['nurses_per_1000'] = pd.Series(latest_numbers)\n",
    "nurses = nurses_df[['Country Name', 'nurses_per_1000']]\n",
    "\n",
    "nurses.head(3)"
   ]
  },
  {
   "cell_type": "code",
   "execution_count": 5,
   "metadata": {},
   "outputs": [
    {
     "output_type": "execute_result",
     "data": {
      "text/plain": "  Country Name  percentage_65up\n0        Aruba        13.550947\n1  Afghanistan         2.584927\n2       Angola         2.216374",
      "text/html": "<div>\n<style scoped>\n    .dataframe tbody tr th:only-of-type {\n        vertical-align: middle;\n    }\n\n    .dataframe tbody tr th {\n        vertical-align: top;\n    }\n\n    .dataframe thead th {\n        text-align: right;\n    }\n</style>\n<table border=\"1\" class=\"dataframe\">\n  <thead>\n    <tr style=\"text-align: right;\">\n      <th></th>\n      <th>Country Name</th>\n      <th>percentage_65up</th>\n    </tr>\n  </thead>\n  <tbody>\n    <tr>\n      <th>0</th>\n      <td>Aruba</td>\n      <td>13.550947</td>\n    </tr>\n    <tr>\n      <th>1</th>\n      <td>Afghanistan</td>\n      <td>2.584927</td>\n    </tr>\n    <tr>\n      <th>2</th>\n      <td>Angola</td>\n      <td>2.216374</td>\n    </tr>\n  </tbody>\n</table>\n</div>"
     },
     "metadata": {},
     "execution_count": 5
    }
   ],
   "source": [
    "# extract indicator SP.POP.65UP.TO.ZS\n",
    "elders_df = pd.read_csv('./data/world-bank/API_SP.POP.65UP.TO.ZS_DS2_en_csv_v2_988979.csv')\n",
    "\n",
    "latest_numbers = []\n",
    "for idx, row in elders_df.iterrows():\n",
    "    latest = np.nan\n",
    "    for y in range(2019,1959, -1):\n",
    "        if pd.notnull(row[str(y)]):\n",
    "            latest = row[str(y)]\n",
    "            break\n",
    "    latest_numbers.append(latest)\n",
    "\n",
    "elders_df['percentage_65up'] = pd.Series(latest_numbers)\n",
    "elders = elders_df[['Country Name', 'percentage_65up']]\n",
    "\n",
    "elders.head(3)"
   ]
  },
  {
   "cell_type": "code",
   "execution_count": 6,
   "metadata": {},
   "outputs": [
    {
     "output_type": "execute_result",
     "data": {
      "text/plain": "  Country Name Country Code\n0        Aruba          ABW\n1  Afghanistan          AFG\n2       Angola          AGO",
      "text/html": "<div>\n<style scoped>\n    .dataframe tbody tr th:only-of-type {\n        vertical-align: middle;\n    }\n\n    .dataframe tbody tr th {\n        vertical-align: top;\n    }\n\n    .dataframe thead th {\n        text-align: right;\n    }\n</style>\n<table border=\"1\" class=\"dataframe\">\n  <thead>\n    <tr style=\"text-align: right;\">\n      <th></th>\n      <th>Country Name</th>\n      <th>Country Code</th>\n    </tr>\n  </thead>\n  <tbody>\n    <tr>\n      <th>0</th>\n      <td>Aruba</td>\n      <td>ABW</td>\n    </tr>\n    <tr>\n      <th>1</th>\n      <td>Afghanistan</td>\n      <td>AFG</td>\n    </tr>\n    <tr>\n      <th>2</th>\n      <td>Angola</td>\n      <td>AGO</td>\n    </tr>\n  </tbody>\n</table>\n</div>"
     },
     "metadata": {},
     "execution_count": 6
    }
   ],
   "source": [
    "# collect ISO 3 codes for each country\n",
    "ISO3 = hospital_beds_df[['Country Name', 'Country Code']]\n",
    "ISO3.head(3)"
   ]
  },
  {
   "cell_type": "markdown",
   "metadata": {},
   "source": [
    "After collecting all the pieces, we can now merge them and output to the output directory (`processed_data`)."
   ]
  },
  {
   "cell_type": "code",
   "execution_count": 7,
   "metadata": {},
   "outputs": [
    {
     "output_type": "execute_result",
     "data": {
      "text/plain": "  country_name country_code  hospital_beds_per_1000  physicians_per_1000  \\\n0        Aruba          ABW                     NaN               1.1200   \n1  Afghanistan          AFG                     0.5               0.2840   \n2       Angola          AGO                     0.8               0.2149   \n\n   nurses_per_1000  percentage_65up  \n0              NaN        13.550947  \n1           0.3200         2.584927  \n2           1.3123         2.216374  ",
      "text/html": "<div>\n<style scoped>\n    .dataframe tbody tr th:only-of-type {\n        vertical-align: middle;\n    }\n\n    .dataframe tbody tr th {\n        vertical-align: top;\n    }\n\n    .dataframe thead th {\n        text-align: right;\n    }\n</style>\n<table border=\"1\" class=\"dataframe\">\n  <thead>\n    <tr style=\"text-align: right;\">\n      <th></th>\n      <th>country_name</th>\n      <th>country_code</th>\n      <th>hospital_beds_per_1000</th>\n      <th>physicians_per_1000</th>\n      <th>nurses_per_1000</th>\n      <th>percentage_65up</th>\n    </tr>\n  </thead>\n  <tbody>\n    <tr>\n      <th>0</th>\n      <td>Aruba</td>\n      <td>ABW</td>\n      <td>NaN</td>\n      <td>1.1200</td>\n      <td>NaN</td>\n      <td>13.550947</td>\n    </tr>\n    <tr>\n      <th>1</th>\n      <td>Afghanistan</td>\n      <td>AFG</td>\n      <td>0.5</td>\n      <td>0.2840</td>\n      <td>0.3200</td>\n      <td>2.584927</td>\n    </tr>\n    <tr>\n      <th>2</th>\n      <td>Angola</td>\n      <td>AGO</td>\n      <td>0.8</td>\n      <td>0.2149</td>\n      <td>1.3123</td>\n      <td>2.216374</td>\n    </tr>\n  </tbody>\n</table>\n</div>"
     },
     "metadata": {},
     "execution_count": 7
    }
   ],
   "source": [
    "\n",
    "# merge dataframes together by country name\n",
    "data_frames = [ISO3, hospital_beds, physicians, nurses, elders]\n",
    "df_merged = reduce(lambda left, right: pd.merge(left, right, on=['Country Name']), data_frames)\n",
    "\n",
    "# rename columns names for consistency\n",
    "df_merged.rename(columns={\n",
    "    'Country Name': 'country_name', \n",
    "    'Country Code': 'country_code'\n",
    "}, inplace=True)\n",
    "\n",
    "df_merged.head(3)"
   ]
  },
  {
   "cell_type": "code",
   "execution_count": 8,
   "metadata": {},
   "outputs": [],
   "source": [
    "# write to output file in processed_data folder\n",
    "df_merged.to_csv('./processed_data/country_indicators.csv', index=False)"
   ]
  },
  {
   "cell_type": "markdown",
   "metadata": {},
   "source": [
    "For the second table `country_responses.csv`, we will collect the timeseries data, each containing the following attributes:\n",
    "\n",
    "| name | meaning | source |\n",
    "| :--- | :------ | :----- |\n",
    "| `date` | date of the data collected | `oxford-government-responses` |\n",
    "| `country_name` | name of the country/region | `oxford-government-responses` |\n",
    "| `country_code` | ISO 3 country code | `oxford-government-responses` |\n",
    "| `s1_school_closing` | closing of schools/universities | `oxford-government-responses` |\n",
    "| `s1_is_general` | whether `s1` is general or targeted | `oxford-government-responses` |\n",
    "| `s2_workplace_closing` | closing of workplaces | `oxford-government-responses` |\n",
    "| `s2_is_general` | whether `s2` is general or targeted | `oxford-government-responses` |\n",
    "| `s3_cancel_public_events` | cancelling public events | `oxford-government-responses` |\n",
    "| `s3_is_general` | whether `s3` is general or targeted | `oxford-government-responses` |\n",
    "| `s4_close_public_transport` | closing public transport | `oxford-government-responses` |\n",
    "| `s4_is_general` | whether `s4` is general or targeted | `oxford-government-responses` |\n",
    "| `s5_public_info_campaigns` | public info campaign | `oxford-government-responses` |\n",
    "| `s5_is_general` | whether `s5` is general or targeted | `oxford-government-responses` |\n",
    "| `s6_restrictions_on_internal_movement` | restricting domestic travels | `oxford-government-responses` |\n",
    "| `s6_is_general` | whether `s6` is general or targeted | `oxford-government-responses` |\n",
    "| `s7_international_traval_controls` | restricting international travel | `oxford-government-responses` |\n",
    "| `s12_testing_policies` | who can get tested | `oxford-government-responses` |\n",
    "| `s13_contact_tracking` | tracking closely contacted people | `oxford-government-responses` |\n",
    "| `stringency_index` | the sum of policy scores, measuring the strictness of the government policies | `oxford-government-responses` |\n",
    "| `confirmed` | the number of confirmed cases | `oxford-government-responses` |\n",
    "| `recovered` | the number of recovered cases | `jhu-global-recovered` |\n",
    "| `deaths` | death toll | `oxford-government-responses` |\n",
    "\n",
    "\n",
    "This table uses data from [Oxford COVID-19 Government Responses Tracker](https://www.bsg.ox.ac.uk/research/publications/variation-government-responses-covid-19). The authors use a novel index to measure the stringency of government responses. A total of 13 indicators (`S1`-`S13`) are used. Nine of them (the ones we chose) are non-financial indicators. A detailed explanation can be found [here](https://www.bsg.ox.ac.uk/sites/default/files/2020-04/BSG-WP-2020-031-v4.0_0.pdf). "
   ]
  },
  {
   "cell_type": "code",
   "execution_count": 9,
   "metadata": {},
   "outputs": [
    {
     "output_type": "execute_result",
     "data": {
      "text/plain": "       Date CountryName CountryCode  S1_School closing  S1_IsGeneral  \\\n0  20200101       Aruba         ABW                0.0           NaN   \n1  20200102       Aruba         ABW                0.0           NaN   \n2  20200103       Aruba         ABW                0.0           NaN   \n\n   S2_Workplace closing  S2_IsGeneral  S3_Cancel public events  S3_IsGeneral  \\\n0                   0.0           NaN                      0.0           NaN   \n1                   0.0           NaN                      0.0           NaN   \n2                   0.0           NaN                      0.0           NaN   \n\n   S4_Close public transport  ...  S5_Public information campaigns  \\\n0                        0.0  ...                              0.0   \n1                        0.0  ...                              0.0   \n2                        0.0  ...                              0.0   \n\n   S5_IsGeneral  S6_Restrictions on internal movement  S6_IsGeneral  \\\n0           NaN                                   0.0           NaN   \n1           NaN                                   0.0           NaN   \n2           NaN                                   0.0           NaN   \n\n   S7_International travel controls  S12_Testing framework  \\\n0                               0.0                    0.0   \n1                               0.0                    0.0   \n2                               0.0                    0.0   \n\n   S13_Contact tracing  StringencyIndex  ConfirmedCases  ConfirmedDeaths  \n0                  0.0              0.0             NaN              NaN  \n1                  0.0              0.0             NaN              NaN  \n2                  0.0              0.0             NaN              NaN  \n\n[3 rows x 21 columns]",
      "text/html": "<div>\n<style scoped>\n    .dataframe tbody tr th:only-of-type {\n        vertical-align: middle;\n    }\n\n    .dataframe tbody tr th {\n        vertical-align: top;\n    }\n\n    .dataframe thead th {\n        text-align: right;\n    }\n</style>\n<table border=\"1\" class=\"dataframe\">\n  <thead>\n    <tr style=\"text-align: right;\">\n      <th></th>\n      <th>Date</th>\n      <th>CountryName</th>\n      <th>CountryCode</th>\n      <th>S1_School closing</th>\n      <th>S1_IsGeneral</th>\n      <th>S2_Workplace closing</th>\n      <th>S2_IsGeneral</th>\n      <th>S3_Cancel public events</th>\n      <th>S3_IsGeneral</th>\n      <th>S4_Close public transport</th>\n      <th>...</th>\n      <th>S5_Public information campaigns</th>\n      <th>S5_IsGeneral</th>\n      <th>S6_Restrictions on internal movement</th>\n      <th>S6_IsGeneral</th>\n      <th>S7_International travel controls</th>\n      <th>S12_Testing framework</th>\n      <th>S13_Contact tracing</th>\n      <th>StringencyIndex</th>\n      <th>ConfirmedCases</th>\n      <th>ConfirmedDeaths</th>\n    </tr>\n  </thead>\n  <tbody>\n    <tr>\n      <th>0</th>\n      <td>20200101</td>\n      <td>Aruba</td>\n      <td>ABW</td>\n      <td>0.0</td>\n      <td>NaN</td>\n      <td>0.0</td>\n      <td>NaN</td>\n      <td>0.0</td>\n      <td>NaN</td>\n      <td>0.0</td>\n      <td>...</td>\n      <td>0.0</td>\n      <td>NaN</td>\n      <td>0.0</td>\n      <td>NaN</td>\n      <td>0.0</td>\n      <td>0.0</td>\n      <td>0.0</td>\n      <td>0.0</td>\n      <td>NaN</td>\n      <td>NaN</td>\n    </tr>\n    <tr>\n      <th>1</th>\n      <td>20200102</td>\n      <td>Aruba</td>\n      <td>ABW</td>\n      <td>0.0</td>\n      <td>NaN</td>\n      <td>0.0</td>\n      <td>NaN</td>\n      <td>0.0</td>\n      <td>NaN</td>\n      <td>0.0</td>\n      <td>...</td>\n      <td>0.0</td>\n      <td>NaN</td>\n      <td>0.0</td>\n      <td>NaN</td>\n      <td>0.0</td>\n      <td>0.0</td>\n      <td>0.0</td>\n      <td>0.0</td>\n      <td>NaN</td>\n      <td>NaN</td>\n    </tr>\n    <tr>\n      <th>2</th>\n      <td>20200103</td>\n      <td>Aruba</td>\n      <td>ABW</td>\n      <td>0.0</td>\n      <td>NaN</td>\n      <td>0.0</td>\n      <td>NaN</td>\n      <td>0.0</td>\n      <td>NaN</td>\n      <td>0.0</td>\n      <td>...</td>\n      <td>0.0</td>\n      <td>NaN</td>\n      <td>0.0</td>\n      <td>NaN</td>\n      <td>0.0</td>\n      <td>0.0</td>\n      <td>0.0</td>\n      <td>0.0</td>\n      <td>NaN</td>\n      <td>NaN</td>\n    </tr>\n  </tbody>\n</table>\n<p>3 rows × 21 columns</p>\n</div>"
     },
     "metadata": {},
     "execution_count": 9
    }
   ],
   "source": [
    "gov_responses_df = pd.read_csv('data/oxford/OxCGRT_Download_240420_164803_Full.csv')\n",
    "\n",
    "interested_columns = [\n",
    "    'Date', 'CountryName', 'CountryCode', \n",
    "    'S1_School closing', 'S1_IsGeneral',\n",
    "    'S2_Workplace closing', 'S2_IsGeneral',\n",
    "    'S3_Cancel public events', 'S3_IsGeneral',\n",
    "    'S4_Close public transport', 'S4_IsGeneral',\n",
    "    'S5_Public information campaigns', 'S5_IsGeneral',\n",
    "    'S6_Restrictions on internal movement', 'S6_IsGeneral',\n",
    "    'S7_International travel controls',\n",
    "    'S12_Testing framework',\n",
    "    'S13_Contact tracing',\n",
    "    'StringencyIndex', 'ConfirmedCases', 'ConfirmedDeaths'\n",
    "]\n",
    "\n",
    "# select interested values\n",
    "gov_responses = gov_responses_df[interested_columns]\n",
    "\n",
    "gov_responses.head(3)"
   ]
  },
  {
   "cell_type": "code",
   "execution_count": 10,
   "metadata": {},
   "outputs": [
    {
     "output_type": "execute_result",
     "data": {
      "text/plain": "  Country/Region     date  recovered\n0    Afghanistan  1/22/20          0\n1        Albania  1/22/20          0\n2        Algeria  1/22/20          0",
      "text/html": "<div>\n<style scoped>\n    .dataframe tbody tr th:only-of-type {\n        vertical-align: middle;\n    }\n\n    .dataframe tbody tr th {\n        vertical-align: top;\n    }\n\n    .dataframe thead th {\n        text-align: right;\n    }\n</style>\n<table border=\"1\" class=\"dataframe\">\n  <thead>\n    <tr style=\"text-align: right;\">\n      <th></th>\n      <th>Country/Region</th>\n      <th>date</th>\n      <th>recovered</th>\n    </tr>\n  </thead>\n  <tbody>\n    <tr>\n      <th>0</th>\n      <td>Afghanistan</td>\n      <td>1/22/20</td>\n      <td>0</td>\n    </tr>\n    <tr>\n      <th>1</th>\n      <td>Albania</td>\n      <td>1/22/20</td>\n      <td>0</td>\n    </tr>\n    <tr>\n      <th>2</th>\n      <td>Algeria</td>\n      <td>1/22/20</td>\n      <td>0</td>\n    </tr>\n  </tbody>\n</table>\n</div>"
     },
     "metadata": {},
     "execution_count": 10
    }
   ],
   "source": [
    "# extract recovered data\n",
    "recovered_df = pd.read_csv('./data/jhu-csse/time_series_covid19_recovered_global.csv')\n",
    "\n",
    "# ignore Province/State, Lat, and Long\n",
    "recovered = recovered_df[['Country/Region'] + list(recovered_df.columns[4:])]\n",
    "\n",
    "# convert to a long table by melting\n",
    "recovered = recovered.melt(id_vars='Country/Region', var_name='date', value_name='recovered')\n",
    "\n",
    "recovered.head(3)"
   ]
  },
  {
   "cell_type": "markdown",
   "metadata": {},
   "source": [
    "The JHU datasets does not have ISO 3 country code, which means we need to use country/region name to do the join. It is possible that different datasets use different names for the same country/region."
   ]
  },
  {
   "cell_type": "code",
   "execution_count": 11,
   "metadata": {},
   "outputs": [
    {
     "output_type": "stream",
     "name": "stdout",
     "text": "Names without matches\n\nOxford dataset: {'Democratic Republic of Congo', 'Puerto Rico', 'Bermuda', 'Hong Kong', 'Guam', 'Czech Republic', 'Macao', 'Myanmar', 'Taiwan', 'Kyrgyz Republic', 'Lesotho', 'Aruba', 'Slovak Republic', 'Cape Verde', 'Greenland', 'United States', 'Palestine', 'South Korea'}\n\nJHU datasets: {'Diamond Princess', 'Congo (Brazzaville)', 'Grenada', 'Eritrea', 'Kyrgyzstan', 'Timor-Leste', 'Haiti', 'Monaco', 'Western Sahara', 'US', 'Liechtenstein', 'Senegal', 'Lithuania', 'Slovakia', \"Cote d'Ivoire\", 'Armenia', 'Korea, South', 'Czechia', 'Maldives', 'Latvia', 'Saint Kitts and Nevis', 'Equatorial Guinea', 'Cambodia', 'Somalia', 'Fiji', 'Suriname', 'Bhutan', 'Saint Lucia', 'North Macedonia', 'Nepal', 'Montenegro', 'Burma', 'Guinea-Bissau', 'Liberia', 'West Bank and Gaza', 'Central African Republic', 'Benin', 'Holy See', 'Georgia', 'Antigua and Barbuda', 'MS Zaandam', 'Malta', 'Yemen', 'Guinea', 'Sao Tome and Principe', 'Belarus', 'Saint Vincent and the Grenadines', 'Bahamas', 'Taiwan*', 'Congo (Kinshasa)', 'Cabo Verde', 'Togo'}\n\n"
    }
   ],
   "source": [
    "# country names in Oxford dataset (without dups)\n",
    "countries1 = set(gov_responses['CountryName'])\n",
    "\n",
    "# country names in JHU datasets (without dups)\n",
    "countries2 = set(recovered['Country/Region'])\n",
    "\n",
    "# names common to both dataset\n",
    "common = countries1 & countries2\n",
    "\n",
    "print('Names without matches\\n')\n",
    "print(f'Oxford dataset: {countries1 - common}\\n')\n",
    "print(f'JHU datasets: {countries2 - common}\\n')"
   ]
  },
  {
   "cell_type": "markdown",
   "metadata": {},
   "source": [
    "After inspecting the output, we need to perform some translations.\n",
    "\n",
    "- \"Slovakia\" to \"Slovak Republic\"\n",
    "- \"Korea, South\" to \"South Korea\"\n",
    "- \"Kyrgyzstan\" to \"Kyrgyz Republic\"\n",
    "- \"Taiwan*\" to \"Taiwan\"\n",
    "- \"Congo (Kinshasa)\" to \"Democratic Republic of Congo\"\n",
    "- \"US\" to \"United States\"\n",
    "- \"Czechia\" to \"Czech Republic\""
   ]
  },
  {
   "cell_type": "code",
   "execution_count": 12,
   "metadata": {},
   "outputs": [],
   "source": [
    "def translate_country(countryName):\n",
    "    if countryName == \"Slovakia\":\n",
    "        return \"Slovak Republic\"\n",
    "    elif countryName == \"Korea, South\":\n",
    "        return \"South Korea\"\n",
    "    elif countryName == \"Kyrgyzstan\":\n",
    "        return \"Kyrgyz Republic\"\n",
    "    elif countryName == \"Taiwan*\":\n",
    "        return \"Taiwan\"\n",
    "    elif countryName == \"Congo (Kinshasa)\":\n",
    "        return \"Democratic Republic of Congo\"\n",
    "    elif countryName == \"US\":\n",
    "        return \"United States\"\n",
    "    elif countryName == \"Czechia\":\n",
    "        return \"Czech Republic\"\n",
    "    else:\n",
    "        return countryName\n",
    "\n",
    "# translate country/region names in the JHU datasets\n",
    "recovered['Country/Region'] = recovered['Country/Region'].map(lambda x: translate_country(x))"
   ]
  },
  {
   "cell_type": "markdown",
   "metadata": {},
   "source": [
    "Similarly, the two datasets represent date using different format, we need to translate that too.\n",
    "\n",
    "- `M/DD/YY` to `YYYYMMDD`"
   ]
  },
  {
   "cell_type": "code",
   "execution_count": 13,
   "metadata": {},
   "outputs": [],
   "source": [
    "def translate_date(datestr):\n",
    "    m, d, _ = datestr.split('/')\n",
    "    return 2020 * 10000 + int(m) * 100 + int(d)\n",
    "\n",
    "#translate country/region names in the JHU dataset\n",
    "recovered['date'] = recovered['date'].map(lambda x: translate_date(x))"
   ]
  },
  {
   "cell_type": "markdown",
   "metadata": {},
   "source": [
    "Now we can combine the dataframes by inner join and write the result to a CSV file."
   ]
  },
  {
   "cell_type": "code",
   "execution_count": 14,
   "metadata": {},
   "outputs": [
    {
     "output_type": "execute_result",
     "data": {
      "text/plain": "       date country_name country_code  s1_school_closing  s1_is_general  \\\n0  20200122  Afghanistan          AFG                0.0            NaN   \n1  20200123  Afghanistan          AFG                0.0            NaN   \n2  20200124  Afghanistan          AFG                0.0            NaN   \n\n   s2_workplace_closing  s2_is_general  s3_cancel_public_events  \\\n0                   0.0            NaN                      0.0   \n1                   0.0            NaN                      0.0   \n2                   0.0            NaN                      0.0   \n\n   s3_is_general  s4_close_public_transport  ...  s5_is_general  \\\n0            NaN                        0.0  ...            NaN   \n1            NaN                        0.0  ...            NaN   \n2            NaN                        0.0  ...            NaN   \n\n   s6_restrictions_on_internal_movement  s6_is_general  \\\n0                                   0.0            NaN   \n1                                   0.0            NaN   \n2                                   0.0            NaN   \n\n   s7_international_travel_controls  s12_testing_framework  \\\n0                               0.0                    0.0   \n1                               0.0                    0.0   \n2                               0.0                    0.0   \n\n   s13_contact_tracing  stringency_index  confirmed  deaths  recovered  \n0                  0.0               0.0        0.0     0.0          0  \n1                  0.0               0.0        0.0     0.0          0  \n2                  0.0               0.0        0.0     0.0          0  \n\n[3 rows x 22 columns]",
      "text/html": "<div>\n<style scoped>\n    .dataframe tbody tr th:only-of-type {\n        vertical-align: middle;\n    }\n\n    .dataframe tbody tr th {\n        vertical-align: top;\n    }\n\n    .dataframe thead th {\n        text-align: right;\n    }\n</style>\n<table border=\"1\" class=\"dataframe\">\n  <thead>\n    <tr style=\"text-align: right;\">\n      <th></th>\n      <th>date</th>\n      <th>country_name</th>\n      <th>country_code</th>\n      <th>s1_school_closing</th>\n      <th>s1_is_general</th>\n      <th>s2_workplace_closing</th>\n      <th>s2_is_general</th>\n      <th>s3_cancel_public_events</th>\n      <th>s3_is_general</th>\n      <th>s4_close_public_transport</th>\n      <th>...</th>\n      <th>s5_is_general</th>\n      <th>s6_restrictions_on_internal_movement</th>\n      <th>s6_is_general</th>\n      <th>s7_international_travel_controls</th>\n      <th>s12_testing_framework</th>\n      <th>s13_contact_tracing</th>\n      <th>stringency_index</th>\n      <th>confirmed</th>\n      <th>deaths</th>\n      <th>recovered</th>\n    </tr>\n  </thead>\n  <tbody>\n    <tr>\n      <th>0</th>\n      <td>20200122</td>\n      <td>Afghanistan</td>\n      <td>AFG</td>\n      <td>0.0</td>\n      <td>NaN</td>\n      <td>0.0</td>\n      <td>NaN</td>\n      <td>0.0</td>\n      <td>NaN</td>\n      <td>0.0</td>\n      <td>...</td>\n      <td>NaN</td>\n      <td>0.0</td>\n      <td>NaN</td>\n      <td>0.0</td>\n      <td>0.0</td>\n      <td>0.0</td>\n      <td>0.0</td>\n      <td>0.0</td>\n      <td>0.0</td>\n      <td>0</td>\n    </tr>\n    <tr>\n      <th>1</th>\n      <td>20200123</td>\n      <td>Afghanistan</td>\n      <td>AFG</td>\n      <td>0.0</td>\n      <td>NaN</td>\n      <td>0.0</td>\n      <td>NaN</td>\n      <td>0.0</td>\n      <td>NaN</td>\n      <td>0.0</td>\n      <td>...</td>\n      <td>NaN</td>\n      <td>0.0</td>\n      <td>NaN</td>\n      <td>0.0</td>\n      <td>0.0</td>\n      <td>0.0</td>\n      <td>0.0</td>\n      <td>0.0</td>\n      <td>0.0</td>\n      <td>0</td>\n    </tr>\n    <tr>\n      <th>2</th>\n      <td>20200124</td>\n      <td>Afghanistan</td>\n      <td>AFG</td>\n      <td>0.0</td>\n      <td>NaN</td>\n      <td>0.0</td>\n      <td>NaN</td>\n      <td>0.0</td>\n      <td>NaN</td>\n      <td>0.0</td>\n      <td>...</td>\n      <td>NaN</td>\n      <td>0.0</td>\n      <td>NaN</td>\n      <td>0.0</td>\n      <td>0.0</td>\n      <td>0.0</td>\n      <td>0.0</td>\n      <td>0.0</td>\n      <td>0.0</td>\n      <td>0</td>\n    </tr>\n  </tbody>\n</table>\n<p>3 rows × 22 columns</p>\n</div>"
     },
     "metadata": {},
     "execution_count": 14
    }
   ],
   "source": [
    "# rename for joinning\n",
    "recovered.rename(columns={\n",
    "    'Country/Region': 'CountryName',\n",
    "    'date': 'Date'\n",
    "}, inplace=True)\n",
    "\n",
    "# join dataframes on date and country name\n",
    "df_merged = pd.merge(gov_responses, recovered, on=['Date', 'CountryName'])\n",
    "\n",
    "# rename columns names for consistency\n",
    "df_merged.rename(columns={\n",
    "    'Date': 'date',\n",
    "    'CountryName': 'country_name',\n",
    "    'CountryCode': 'country_code',\n",
    "    'S1_School closing': 's1_school_closing',\n",
    "    'S1_IsGeneral': 's1_is_general',\n",
    "    'S2_Workplace closing': 's2_workplace_closing',\n",
    "    'S2_IsGeneral': 's2_is_general',\n",
    "    'S3_Cancel public events': 's3_cancel_public_events',\n",
    "    'S3_IsGeneral': 's3_is_general',\n",
    "    'S4_Close public transport': 's4_close_public_transport',\n",
    "    'S4_IsGeneral': 's4_is_general',\n",
    "    'S5_Public information campaigns': 's5_public_information_campaigns',\n",
    "    'S5_IsGeneral': 's5_is_general',\n",
    "    'S6_Restrictions on internal movement': 's6_restrictions_on_internal_movement',\n",
    "    'S6_IsGeneral': 's6_is_general',\n",
    "    'S7_International travel controls': 's7_international_travel_controls',\n",
    "    'S12_Testing framework': 's12_testing_framework',\n",
    "    'S13_Contact tracing': 's13_contact_tracing',\n",
    "    'StringencyIndex': 'stringency_index',\n",
    "    'ConfirmedCases': 'confirmed',\n",
    "    'ConfirmedDeaths': 'deaths'\n",
    "}, inplace=True)\n",
    "\n",
    "df_merged.head(3)"
   ]
  },
  {
   "cell_type": "code",
   "execution_count": 15,
   "metadata": {},
   "outputs": [],
   "source": [
    "# write to output file in processed_data folder\n",
    "df_merged.to_csv('./processed_data/country_responses.csv', index=False)"
   ]
  },
  {
   "cell_type": "markdown",
   "metadata": {},
   "source": [
    "## Processing State Level Data\n",
    "\n",
    "At the state level, we are creating three tables `state_indicators.csv`, `state_responses.csv` and `state_cases.csv`. For the first table, we will collect the following information for each state: \n",
    "\n",
    "| name  | meaning  | source  |\n",
    "| :---- | :------- | :------ |\n",
    "| `state_name` | the name of the state | `khn-icu-beds-by-county` |\n",
    "| `state_code` | the code of the state | `khn-hospital-by-county` |\n",
    "| `hospitals_per_1000`      | the number of hospitals per 1000 people |`khn-hospital-by-county`  |\n",
    "| `icu_beds_per_1000` | number of icu beds per 1000 people | `khn-icu-beds-by-county` |\n",
    "| `percentage_60up`      | population ages 60 and above (% of total population) |`khn-icu-beds-by-county`  |"
   ]
  },
  {
   "cell_type": "code",
   "execution_count": 16,
   "metadata": {},
   "outputs": [
    {
     "output_type": "execute_result",
     "data": {
      "text/plain": "  state_name  icu_beds_per_1000\n0    Alabama           0.316032\n1     Alaska           0.161123\n2    Arizona           0.228930",
      "text/html": "<div>\n<style scoped>\n    .dataframe tbody tr th:only-of-type {\n        vertical-align: middle;\n    }\n\n    .dataframe tbody tr th {\n        vertical-align: top;\n    }\n\n    .dataframe thead th {\n        text-align: right;\n    }\n</style>\n<table border=\"1\" class=\"dataframe\">\n  <thead>\n    <tr style=\"text-align: right;\">\n      <th></th>\n      <th>state_name</th>\n      <th>icu_beds_per_1000</th>\n    </tr>\n  </thead>\n  <tbody>\n    <tr>\n      <th>0</th>\n      <td>Alabama</td>\n      <td>0.316032</td>\n    </tr>\n    <tr>\n      <th>1</th>\n      <td>Alaska</td>\n      <td>0.161123</td>\n    </tr>\n    <tr>\n      <th>2</th>\n      <td>Arizona</td>\n      <td>0.228930</td>\n    </tr>\n  </tbody>\n</table>\n</div>"
     },
     "metadata": {},
     "execution_count": 16
    }
   ],
   "source": [
    "#collect the number of icu beds per 1000\n",
    "icu_beds_df = pd.read_csv('./data/khn/data-FPBfZ.csv')\n",
    "icu_beds_df = icu_beds_df[['State', 'ICU Beds','Total Population']]\n",
    "icu_beds = icu_beds_df.groupby(['State'], as_index=False).sum()\n",
    "\n",
    "icu_beds['ICU Beds'] = 1000 * icu_beds['ICU Beds']/icu_beds['Total Population']\n",
    "icu_beds = icu_beds[['State', 'ICU Beds']]\n",
    "\n",
    "icu_beds.rename(columns={\n",
    "    'State': 'state_name', \n",
    "    'ICU Beds': 'icu_beds_per_1000'\n",
    "}, inplace=True)\n",
    "\n",
    "icu_beds.head(3)"
   ]
  },
  {
   "cell_type": "code",
   "execution_count": 17,
   "metadata": {},
   "outputs": [
    {
     "output_type": "execute_result",
     "data": {
      "text/plain": "  state_name  percentage_60up\n0    Alabama        21.968157\n1     Alaska        15.847894\n2    Arizona        22.066078",
      "text/html": "<div>\n<style scoped>\n    .dataframe tbody tr th:only-of-type {\n        vertical-align: middle;\n    }\n\n    .dataframe tbody tr th {\n        vertical-align: top;\n    }\n\n    .dataframe thead th {\n        text-align: right;\n    }\n</style>\n<table border=\"1\" class=\"dataframe\">\n  <thead>\n    <tr style=\"text-align: right;\">\n      <th></th>\n      <th>state_name</th>\n      <th>percentage_60up</th>\n    </tr>\n  </thead>\n  <tbody>\n    <tr>\n      <th>0</th>\n      <td>Alabama</td>\n      <td>21.968157</td>\n    </tr>\n    <tr>\n      <th>1</th>\n      <td>Alaska</td>\n      <td>15.847894</td>\n    </tr>\n    <tr>\n      <th>2</th>\n      <td>Arizona</td>\n      <td>22.066078</td>\n    </tr>\n  </tbody>\n</table>\n</div>"
     },
     "metadata": {},
     "execution_count": 17
    }
   ],
   "source": [
    "#collect the percentage of people ages 60 and above\n",
    "elders_df = pd.read_csv('./data/khn/data-FPBfZ.csv')\n",
    "elders_df = elders_df[['State', 'Population Aged 60+', 'Total Population']]\n",
    "elders = elders_df.groupby(['State'], as_index=False).sum()\n",
    "\n",
    "elders['Population Aged 60+'] = 100*elders['Population Aged 60+']/elders['Total Population']\n",
    "elders = elders[['State', 'Population Aged 60+']]\n",
    "\n",
    "elders = elders.rename(columns={\n",
    "    'State': 'state_name', \n",
    "    'Population Aged 60+': 'percentage_60up'\n",
    "})\n",
    "\n",
    "elders.head(3)"
   ]
  },
  {
   "cell_type": "code",
   "execution_count": 18,
   "metadata": {},
   "outputs": [
    {
     "output_type": "execute_result",
     "data": {
      "text/plain": "  state_name state_code  hospitals_per_1000\n0    Alabama         AL            0.017523\n1     Alaska         AK            0.029787\n2    Arizona         AZ            0.010720",
      "text/html": "<div>\n<style scoped>\n    .dataframe tbody tr th:only-of-type {\n        vertical-align: middle;\n    }\n\n    .dataframe tbody tr th {\n        vertical-align: top;\n    }\n\n    .dataframe thead th {\n        text-align: right;\n    }\n</style>\n<table border=\"1\" class=\"dataframe\">\n  <thead>\n    <tr style=\"text-align: right;\">\n      <th></th>\n      <th>state_name</th>\n      <th>state_code</th>\n      <th>hospitals_per_1000</th>\n    </tr>\n  </thead>\n  <tbody>\n    <tr>\n      <th>0</th>\n      <td>Alabama</td>\n      <td>AL</td>\n      <td>0.017523</td>\n    </tr>\n    <tr>\n      <th>1</th>\n      <td>Alaska</td>\n      <td>AK</td>\n      <td>0.029787</td>\n    </tr>\n    <tr>\n      <th>2</th>\n      <td>Arizona</td>\n      <td>AZ</td>\n      <td>0.010720</td>\n    </tr>\n  </tbody>\n</table>\n</div>"
     },
     "metadata": {},
     "execution_count": 18
    }
   ],
   "source": [
    "#collect the hospitals number in cost reports\n",
    "hospitals_in_df = pd.read_csv('./data/khn/KHN_ICU_bed_county_analysis_2.csv')\n",
    "\n",
    "hospitals_in_cost_df = hospitals_in_df[['state', 'st', 'hospitals_in_cost_reports', 'Total_pop']]\n",
    "hospitals_in_cost = hospitals_in_cost_df.groupby(['state','st'], as_index=False).sum()\n",
    "\n",
    "\n",
    "hospitals_in_cost['hospitals_in_cost_reports'] = 1000*hospitals_in_cost['hospitals_in_cost_reports']/hospitals_in_cost['Total_pop']\n",
    "hospitals_in_cost = hospitals_in_cost[['state', 'st', 'hospitals_in_cost_reports']]\n",
    "\n",
    "hospitals_in_cost = hospitals_in_cost.rename(columns={\n",
    "    'state': 'state_name', \n",
    "    'st': 'state_code',\n",
    "    'hospitals_in_cost_reports': 'hospitals_per_1000'\n",
    "})\n",
    "\n",
    "hospitals_in_cost.head(3)"
   ]
  },
  {
   "cell_type": "code",
   "execution_count": 19,
   "metadata": {},
   "outputs": [
    {
     "output_type": "execute_result",
     "data": {
      "text/plain": "  state_name state_code  hospitals_per_1000  icu_beds_per_1000  \\\n0    Alabama         AL            0.017523           0.316032   \n1     Alaska         AK            0.029787           0.161123   \n2    Arizona         AZ            0.010720           0.228930   \n\n   percentage_60up  \n0        21.968157  \n1        15.847894  \n2        22.066078  ",
      "text/html": "<div>\n<style scoped>\n    .dataframe tbody tr th:only-of-type {\n        vertical-align: middle;\n    }\n\n    .dataframe tbody tr th {\n        vertical-align: top;\n    }\n\n    .dataframe thead th {\n        text-align: right;\n    }\n</style>\n<table border=\"1\" class=\"dataframe\">\n  <thead>\n    <tr style=\"text-align: right;\">\n      <th></th>\n      <th>state_name</th>\n      <th>state_code</th>\n      <th>hospitals_per_1000</th>\n      <th>icu_beds_per_1000</th>\n      <th>percentage_60up</th>\n    </tr>\n  </thead>\n  <tbody>\n    <tr>\n      <th>0</th>\n      <td>Alabama</td>\n      <td>AL</td>\n      <td>0.017523</td>\n      <td>0.316032</td>\n      <td>21.968157</td>\n    </tr>\n    <tr>\n      <th>1</th>\n      <td>Alaska</td>\n      <td>AK</td>\n      <td>0.029787</td>\n      <td>0.161123</td>\n      <td>15.847894</td>\n    </tr>\n    <tr>\n      <th>2</th>\n      <td>Arizona</td>\n      <td>AZ</td>\n      <td>0.010720</td>\n      <td>0.228930</td>\n      <td>22.066078</td>\n    </tr>\n  </tbody>\n</table>\n</div>"
     },
     "metadata": {},
     "execution_count": 19
    }
   ],
   "source": [
    "# merge dataframes together by state name\n",
    "data_frames = [hospitals_in_cost, icu_beds, elders]\n",
    "df_merged = reduce(lambda left, right: pd.merge(left, right, on=['state_name']), data_frames)\n",
    "\n",
    "\n",
    "df_merged.head(3)"
   ]
  },
  {
   "cell_type": "code",
   "execution_count": 20,
   "metadata": {},
   "outputs": [],
   "source": [
    "# write to output file in processed_data folder\n",
    "df_merged.to_csv('./processed_data/state_indicators.csv', index=False)"
   ]
  },
  {
   "cell_type": "markdown",
   "metadata": {},
   "source": [
    "\n",
    "For the second table `state_responses.csv`, we will collect the following information for each state:\n",
    "\n",
    "| name  | meaning  | source  |\n",
    "| :---- | :------- | :------ |\n",
    "| `state_name` | the name of the state | `kff-state-actions` |\n",
    "| `state_is_easing_social_distancing_measures` | state is easing social distancing measures | `kff-state-actions` |\n",
    "| `stay_at_home_order` | order scope         |`kff-state-actions`     |\n",
    "| `date_when_stay_at_home_ordered`      | date when stay at home ordered |`wiki-state-regulations`  |\n",
    "| `mandatory_quarantine_for_travelers`   | mandatory quarantine for travelers           |`kff-state-actions`       |\n",
    "| `non-essential_business_closures`      | business closures      |`kff-state-actions`          |\n",
    "| `large_gatherings_ban`      | gatherings scope ban     |`kff-state-actions`          |\n",
    "| `school_closures`      | details about school closures |`kff-state-actions`  |\n",
    "| `bar/restaurant_limits`      | detail about bar/resurant limits |`kff-state-actions`  |\n",
    "| `primary_election_postponement`      | whether primary election is postponed |`kff-state-actions`  |\n",
    "| `emergency_declaration`      | emergency declaration |`kff-state-actions`  |\n",
    "| `date_of_state_emergency_declared`      | date of state emergency declared |`wiki-state-regulations`  |\n",
    "| `waive_cost_sharing_for_COVID-19_treatment`      | waive cost sharing for COVID-19 treatment |`kff-state-health-policy-actions`  |\n",
    "| `free_cost_vaccine_when_available`      | free cost vaccine when available |`kff-state-health-policy-actions`  |\n",
    "| `state_requires_waiver_of_prior_authorization_requirements`      | state requires waiver of prior authorization requirements |`kff-state-health-policy-actions`  |\n",
    "| `early_Prescription_Refills`      | early Prescription Refills |`kff-state-health-policy-actions`  |\n",
    "| `premium_payment_grace period`      | premium payment grace period |`kff-state-health-policy-actions`  |\n",
    "| `marketplace_special_enrollment_period(SEP)`      | marketplace special enrollment period (SEP) |`kff-state-health-policy-actions`  |\n",
    "| `section_1135_waiver`      | if waiver is approved |`kff-state-health-policy-actions`  |\n",
    "| `paid_sick_leave`      | paid sick leave |`kff-state-health-policy-actions`  |\n",
    "| `daycares`      | daycares |`wiki-state-regulations`  |\n",
    "\n"
   ]
  },
  {
   "cell_type": "code",
   "execution_count": 21,
   "metadata": {},
   "outputs": [
    {
     "output_type": "execute_result",
     "data": {
      "text/plain": "  Location State Is Easing Social Distancing Measures Stay At Home Order  \\\n0  Alabama                                          -          Statewide   \n1   Alaska                                          -          Statewide   \n2  Arizona                                          -          Statewide   \n\n  Mandatory Quarantine for Travelers Non-Essential Business Closures  \\\n0                                  -    All Non-Essential Businesses   \n1                      All Travelers    All Non-Essential Businesses   \n2                From Certain States    All Non-Essential Businesses   \n\n        Large Gatherings Ban         School Closures  \\\n0      >10 People Prohibited  Closed for School Year   \n1  All Gatherings Prohibited  Closed for School Year   \n2      >10 People Prohibited  Closed for School Year   \n\n                Bar/Restaurant Limits Primary Election Postponement  \\\n0  Closed Except for Takeout/Delivery                           Yes   \n1  Closed Except for Takeout/Delivery                             -   \n2  Closed Except for Takeout/Delivery                             -   \n\n  Emergency Declaration  \n0                   Yes  \n1                   Yes  \n2                   Yes  ",
      "text/html": "<div>\n<style scoped>\n    .dataframe tbody tr th:only-of-type {\n        vertical-align: middle;\n    }\n\n    .dataframe tbody tr th {\n        vertical-align: top;\n    }\n\n    .dataframe thead th {\n        text-align: right;\n    }\n</style>\n<table border=\"1\" class=\"dataframe\">\n  <thead>\n    <tr style=\"text-align: right;\">\n      <th></th>\n      <th>Location</th>\n      <th>State Is Easing Social Distancing Measures</th>\n      <th>Stay At Home Order</th>\n      <th>Mandatory Quarantine for Travelers</th>\n      <th>Non-Essential Business Closures</th>\n      <th>Large Gatherings Ban</th>\n      <th>School Closures</th>\n      <th>Bar/Restaurant Limits</th>\n      <th>Primary Election Postponement</th>\n      <th>Emergency Declaration</th>\n    </tr>\n  </thead>\n  <tbody>\n    <tr>\n      <th>0</th>\n      <td>Alabama</td>\n      <td>-</td>\n      <td>Statewide</td>\n      <td>-</td>\n      <td>All Non-Essential Businesses</td>\n      <td>&gt;10 People Prohibited</td>\n      <td>Closed for School Year</td>\n      <td>Closed Except for Takeout/Delivery</td>\n      <td>Yes</td>\n      <td>Yes</td>\n    </tr>\n    <tr>\n      <th>1</th>\n      <td>Alaska</td>\n      <td>-</td>\n      <td>Statewide</td>\n      <td>All Travelers</td>\n      <td>All Non-Essential Businesses</td>\n      <td>All Gatherings Prohibited</td>\n      <td>Closed for School Year</td>\n      <td>Closed Except for Takeout/Delivery</td>\n      <td>-</td>\n      <td>Yes</td>\n    </tr>\n    <tr>\n      <th>2</th>\n      <td>Arizona</td>\n      <td>-</td>\n      <td>Statewide</td>\n      <td>From Certain States</td>\n      <td>All Non-Essential Businesses</td>\n      <td>&gt;10 People Prohibited</td>\n      <td>Closed for School Year</td>\n      <td>Closed Except for Takeout/Delivery</td>\n      <td>-</td>\n      <td>Yes</td>\n    </tr>\n  </tbody>\n</table>\n</div>"
     },
     "metadata": {},
     "execution_count": 21
    }
   ],
   "source": [
    "state_actions_df=pd.read_csv('./data/kff/raw_data.csv')\n",
    "state_actions=state_actions_df[list(state_actions_df.columns[:-1])]\n",
    "#remove national total result record\n",
    "state_actions=state_actions.drop(0)\n",
    "state_actions=state_actions.reset_index(drop=True)\n",
    "state_actions.head(3)"
   ]
  },
  {
   "cell_type": "code",
   "execution_count": 22,
   "metadata": {},
   "outputs": [
    {
     "output_type": "execute_result",
     "data": {
      "text/plain": "  Location Waive Cost Sharing for COVID-19 Treatment  \\\n0  Alabama                                         -   \n1   Alaska                                         -   \n2  Arizona                                         -   \n\n  Free Cost Vaccine When Available  \\\n0                                -   \n1                                -   \n2                                -   \n\n  State Requires Waiver of Prior Authorization Requirements*  \\\n0                                                  -           \n1                                                  -           \n2                                                  -           \n\n  Early Prescription Refills Premium Payment Grace Period  \\\n0                          -                            -   \n1             State Requires                 All Policies   \n2                          -                            -   \n\n  Marketplace Special Enrollment Period (SEP) Section 1135 Waiver  \\\n0                                           -            Approved   \n1                                           -            Approved   \n2                                           -            Approved   \n\n  Paid Sick Leave  \n0               -  \n1               -  \n2         Enacted  ",
      "text/html": "<div>\n<style scoped>\n    .dataframe tbody tr th:only-of-type {\n        vertical-align: middle;\n    }\n\n    .dataframe tbody tr th {\n        vertical-align: top;\n    }\n\n    .dataframe thead th {\n        text-align: right;\n    }\n</style>\n<table border=\"1\" class=\"dataframe\">\n  <thead>\n    <tr style=\"text-align: right;\">\n      <th></th>\n      <th>Location</th>\n      <th>Waive Cost Sharing for COVID-19 Treatment</th>\n      <th>Free Cost Vaccine When Available</th>\n      <th>State Requires Waiver of Prior Authorization Requirements*</th>\n      <th>Early Prescription Refills</th>\n      <th>Premium Payment Grace Period</th>\n      <th>Marketplace Special Enrollment Period (SEP)</th>\n      <th>Section 1135 Waiver</th>\n      <th>Paid Sick Leave</th>\n    </tr>\n  </thead>\n  <tbody>\n    <tr>\n      <th>0</th>\n      <td>Alabama</td>\n      <td>-</td>\n      <td>-</td>\n      <td>-</td>\n      <td>-</td>\n      <td>-</td>\n      <td>-</td>\n      <td>Approved</td>\n      <td>-</td>\n    </tr>\n    <tr>\n      <th>1</th>\n      <td>Alaska</td>\n      <td>-</td>\n      <td>-</td>\n      <td>-</td>\n      <td>State Requires</td>\n      <td>All Policies</td>\n      <td>-</td>\n      <td>Approved</td>\n      <td>-</td>\n    </tr>\n    <tr>\n      <th>2</th>\n      <td>Arizona</td>\n      <td>-</td>\n      <td>-</td>\n      <td>-</td>\n      <td>-</td>\n      <td>-</td>\n      <td>-</td>\n      <td>Approved</td>\n      <td>Enacted</td>\n    </tr>\n  </tbody>\n</table>\n</div>"
     },
     "metadata": {},
     "execution_count": 22
    }
   ],
   "source": [
    "state_health_policy_actions_df=pd.read_csv('./data/kff/health_policy_actions.csv')\n",
    "state_health_policy_actions=state_health_policy_actions_df[list(state_health_policy_actions_df.columns[:-1])]\n",
    "#remove national total result record\n",
    "state_health_policy_actions=state_health_policy_actions.drop(0)\n",
    "state_health_policy_actions=state_health_policy_actions.reset_index(drop=True)\n",
    "state_health_policy_actions.head(3)"
   ]
  },
  {
   "cell_type": "code",
   "execution_count": 23,
   "metadata": {
    "scrolled": false
   },
   "outputs": [
    {
     "output_type": "execute_result",
     "data": {
      "text/plain": "                 State/territory State of emergency declared  \\\n0                Alabama?Alabama                      13-Mar   \n1                  Alaska?Alaska                      11-Mar   \n2  American Samoa?American Samoa                      29-Jan   \n\n  Stay at home ordered Gatherings banned Out-of-state travel restrictions  \\\n0                4-Apr        10 or more                               No   \n1               28-Mar        10 or more             Mandatory quarantine   \n2                   No        10 or more                 Travel suspended   \n\n                      Schools Daycares Bars & sit-down restaurants  \\\n0     Yes (remainder of term)      Yes                         Yes   \n1     Yes (remainder of term)      Yes                         Yes   \n2  Yes (until further notice)      Yes                          No   \n\n  Non-essential retail             Sources  \n0                  Yes  [4][5][6][7][8][9]  \n1                  Yes   [10][6][11][7][8]  \n2                   No        [12][13][14]  ",
      "text/html": "<div>\n<style scoped>\n    .dataframe tbody tr th:only-of-type {\n        vertical-align: middle;\n    }\n\n    .dataframe tbody tr th {\n        vertical-align: top;\n    }\n\n    .dataframe thead th {\n        text-align: right;\n    }\n</style>\n<table border=\"1\" class=\"dataframe\">\n  <thead>\n    <tr style=\"text-align: right;\">\n      <th></th>\n      <th>State/territory</th>\n      <th>State of emergency declared</th>\n      <th>Stay at home ordered</th>\n      <th>Gatherings banned</th>\n      <th>Out-of-state travel restrictions</th>\n      <th>Schools</th>\n      <th>Daycares</th>\n      <th>Bars &amp; sit-down restaurants</th>\n      <th>Non-essential retail</th>\n      <th>Sources</th>\n    </tr>\n  </thead>\n  <tbody>\n    <tr>\n      <th>0</th>\n      <td>Alabama?Alabama</td>\n      <td>13-Mar</td>\n      <td>4-Apr</td>\n      <td>10 or more</td>\n      <td>No</td>\n      <td>Yes (remainder of term)</td>\n      <td>Yes</td>\n      <td>Yes</td>\n      <td>Yes</td>\n      <td>[4][5][6][7][8][9]</td>\n    </tr>\n    <tr>\n      <th>1</th>\n      <td>Alaska?Alaska</td>\n      <td>11-Mar</td>\n      <td>28-Mar</td>\n      <td>10 or more</td>\n      <td>Mandatory quarantine</td>\n      <td>Yes (remainder of term)</td>\n      <td>Yes</td>\n      <td>Yes</td>\n      <td>Yes</td>\n      <td>[10][6][11][7][8]</td>\n    </tr>\n    <tr>\n      <th>2</th>\n      <td>American Samoa?American Samoa</td>\n      <td>29-Jan</td>\n      <td>No</td>\n      <td>10 or more</td>\n      <td>Travel suspended</td>\n      <td>Yes (until further notice)</td>\n      <td>Yes</td>\n      <td>No</td>\n      <td>No</td>\n      <td>[12][13][14]</td>\n    </tr>\n  </tbody>\n</table>\n</div>"
     },
     "metadata": {},
     "execution_count": 23
    }
   ],
   "source": [
    "state_regulations_df=pd.read_csv('./data/wiki/state_regulations.csv',delimiter=\"\\t\")\n",
    "state_regulations_df.head(3)"
   ]
  },
  {
   "cell_type": "markdown",
   "metadata": {},
   "source": [
    "There are similar columns between wiki-state-regulations and kff-state-actions:\n",
    "\n",
    "- \"Gatherings banned\" and \"Large Gatherings Ban\"\n",
    "- \"Out-of-state travel restrictions\" and \"Mandatory Quarantine for Travelers\"\n",
    "- \"Schools\" and \"School Closures\"\n",
    "- \"Bars & sit-down restaurants\" and \"Bar/Restaurant Limits\"\n",
    "- \"Non-essential retail\" and \"Non-Essential Business Closures\"\n",
    "\n",
    "So for similar columns we only choose columns from kff-state-actions."
   ]
  },
  {
   "cell_type": "code",
   "execution_count": 24,
   "metadata": {},
   "outputs": [
    {
     "output_type": "execute_result",
     "data": {
      "text/plain": "  State/territory State of emergency declared Stay at home ordered Daycares\n0         Alabama                      13-Mar                4-Apr      Yes\n1          Alaska                      11-Mar               28-Mar      Yes\n2  American Samoa                      29-Jan                   No      Yes",
      "text/html": "<div>\n<style scoped>\n    .dataframe tbody tr th:only-of-type {\n        vertical-align: middle;\n    }\n\n    .dataframe tbody tr th {\n        vertical-align: top;\n    }\n\n    .dataframe thead th {\n        text-align: right;\n    }\n</style>\n<table border=\"1\" class=\"dataframe\">\n  <thead>\n    <tr style=\"text-align: right;\">\n      <th></th>\n      <th>State/territory</th>\n      <th>State of emergency declared</th>\n      <th>Stay at home ordered</th>\n      <th>Daycares</th>\n    </tr>\n  </thead>\n  <tbody>\n    <tr>\n      <th>0</th>\n      <td>Alabama</td>\n      <td>13-Mar</td>\n      <td>4-Apr</td>\n      <td>Yes</td>\n    </tr>\n    <tr>\n      <th>1</th>\n      <td>Alaska</td>\n      <td>11-Mar</td>\n      <td>28-Mar</td>\n      <td>Yes</td>\n    </tr>\n    <tr>\n      <th>2</th>\n      <td>American Samoa</td>\n      <td>29-Jan</td>\n      <td>No</td>\n      <td>Yes</td>\n    </tr>\n  </tbody>\n</table>\n</div>"
     },
     "metadata": {},
     "execution_count": 24
    }
   ],
   "source": [
    "def clean_state_name(name):\n",
    "    return name.split('?')[0]\n",
    "\n",
    "state_regulations_df['State/territory']=state_regulations_df['State/territory'].map(lambda x:clean_state_name(x))\n",
    "state_regulations=state_regulations_df[list(state_regulations_df.columns[:3])+['Daycares']]\n",
    "state_regulations.head(3)"
   ]
  },
  {
   "cell_type": "markdown",
   "metadata": {},
   "source": [
    "We need to use state names to do the join. It is possible that different datasets use different names for the same location."
   ]
  },
  {
   "cell_type": "code",
   "execution_count": 25,
   "metadata": {},
   "outputs": [
    {
     "output_type": "stream",
     "name": "stdout",
     "text": "Names with no matches: \n\nKFF dataset: {'New York', 'Georgia', 'Washington', 'District of Columbia'}\n\nWiki dataset: {'New York (state)', 'Georgia (U.S. state)', 'Puerto Rico', 'Washington (state)', 'United States Virgin Islands', 'Guam', 'American Samoa', 'Northern Mariana Islands', 'Washington, D.C.'}\n\n"
    }
   ],
   "source": [
    "# state names in kff dataset \n",
    "states1 = set(state_actions['Location'])\n",
    "\n",
    "# country names in wiki datasets \n",
    "states2 = set(state_regulations['State/territory'])\n",
    "\n",
    "# names common to both dataset\n",
    "common_states = states1 & states2\n",
    "\n",
    "print('Names with no matches: \\n')\n",
    "print(f'KFF dataset: {states1-common_states}\\n')\n",
    "print(f'Wiki dataset: {states2-common_states}\\n')"
   ]
  },
  {
   "cell_type": "markdown",
   "metadata": {},
   "source": [
    "After inspecting the output, so we need to perform some translations.\n",
    "- \"Washington, D.C.\" to \"District of Columbia\"\n",
    "- \"Washington (state)\" to \"Washington\"\n",
    "- \"New York (state)\" to \"New York\"\n",
    "- \"Georgia (U.S. state)\" to \"Georgia\"\n",
    "\n",
    "KFF dataset does not have the territory record, so the following territory records are removed.\n",
    "- Puerto Rico\n",
    "- Northern Mariana Islands\n",
    "- Guam\n",
    "- United States Virgin Islands\n",
    "- American Samoa\n",
    "\n",
    "We then rename the column names for joining:\n",
    "- change wiki dataset column `State/territory` to `state`\n",
    "- change kff datasets column `Location` to `state`\n"
   ]
  },
  {
   "cell_type": "code",
   "execution_count": 26,
   "metadata": {},
   "outputs": [
    {
     "output_type": "execute_result",
     "data": {
      "text/plain": "  state_name State of emergency declared Stay at home ordered Daycares\n0    Alabama                      13-Mar                4-Apr      Yes\n1     Alaska                      11-Mar               28-Mar      Yes\n2    Arizona                      11-Mar               31-Mar      Yes",
      "text/html": "<div>\n<style scoped>\n    .dataframe tbody tr th:only-of-type {\n        vertical-align: middle;\n    }\n\n    .dataframe tbody tr th {\n        vertical-align: top;\n    }\n\n    .dataframe thead th {\n        text-align: right;\n    }\n</style>\n<table border=\"1\" class=\"dataframe\">\n  <thead>\n    <tr style=\"text-align: right;\">\n      <th></th>\n      <th>state_name</th>\n      <th>State of emergency declared</th>\n      <th>Stay at home ordered</th>\n      <th>Daycares</th>\n    </tr>\n  </thead>\n  <tbody>\n    <tr>\n      <th>0</th>\n      <td>Alabama</td>\n      <td>13-Mar</td>\n      <td>4-Apr</td>\n      <td>Yes</td>\n    </tr>\n    <tr>\n      <th>1</th>\n      <td>Alaska</td>\n      <td>11-Mar</td>\n      <td>28-Mar</td>\n      <td>Yes</td>\n    </tr>\n    <tr>\n      <th>2</th>\n      <td>Arizona</td>\n      <td>11-Mar</td>\n      <td>31-Mar</td>\n      <td>Yes</td>\n    </tr>\n  </tbody>\n</table>\n</div>"
     },
     "metadata": {},
     "execution_count": 26
    }
   ],
   "source": [
    "def translate_state(stateName):\n",
    "    if stateName == \"Washington, D.C.\":\n",
    "        return \"District of Columbia\"\n",
    "    elif stateName == \"Washington (state)\":\n",
    "        return \"Washington\"\n",
    "    elif stateName == \"New York (state)\":\n",
    "        return \"New York\"\n",
    "    elif stateName == \"Georgia (U.S. state)\":\n",
    "        return \"Georgia\"\n",
    "    else:\n",
    "        return stateName\n",
    "\n",
    "\n",
    "#rename column names for joining\n",
    "state_regulations.rename(columns={'State/territory':'state_name'}, inplace=True) \n",
    "state_actions.rename(columns={'Location':'state_name'}, inplace=True) \n",
    "state_health_policy_actions.rename(columns={'Location':'state_name'}, inplace=True) \n",
    "\n",
    "#remove territory records\n",
    "state_regulations=state_regulations.drop(state_regulations[state_regulations.state_name==\"Puerto Rico\"].index)\n",
    "state_regulations=state_regulations.drop(state_regulations[state_regulations.state_name==\"Northern Mariana Islands\"].index)\n",
    "state_regulations=state_regulations.drop(state_regulations[state_regulations.state_name==\"Guam\"].index)\n",
    "state_regulations=state_regulations.drop(state_regulations[state_regulations.state_name==\"United States Virgin Islands\"].index)\n",
    "state_regulations=state_regulations.drop(state_regulations[state_regulations.state_name==\"American Samoa\"].index)\n",
    "state_regulations=state_regulations.reset_index(drop=True)\n",
    "\n",
    "# translate state names in the wiki dataset\n",
    "state_regulations['state_name'] = state_regulations['state_name'].map(lambda x: translate_state(x))\n",
    " \n",
    "state_regulations.head(3)"
   ]
  },
  {
   "cell_type": "markdown",
   "metadata": {},
   "source": [
    "Now we combine three dateframes into one dateframe."
   ]
  },
  {
   "cell_type": "code",
   "execution_count": 27,
   "metadata": {},
   "outputs": [],
   "source": [
    "# perform inner join of three tables\n",
    "state_merged = pd.merge(state_actions, state_health_policy_actions, on=['state_name'])\n",
    "state_merged = pd.merge(state_merged, state_regulations, on=['state_name'])\n",
    "\n",
    "#change column name\n",
    "state_merged.columns=state_merged.columns.map(lambda x:x.lower())\n",
    "state_merged.rename(columns={\n",
    "    'marketplace special enrollment period (sep)':'marketplace special enrollment period(SEP)',\n",
    "    'state of emergency declared':'date of state emergency declared',\n",
    "    'stay at home ordered':'date when stay at home ordered',\n",
    "    'state requires waiver of prior authorization requirements*':'state requires waiver of prior authorization requirements'\n",
    "}, inplace=True)"
   ]
  },
  {
   "cell_type": "code",
   "execution_count": 28,
   "metadata": {},
   "outputs": [
    {
     "output_type": "execute_result",
     "data": {
      "text/plain": "  state_name state_is_easing_social_distancing_measures stay_at_home_order  \\\n0    Alabama                                                     Statewide   \n1     Alaska                                                     Statewide   \n2    Arizona                                                     Statewide   \n\n  date_when_stay_at_home_ordered mandatory_quarantine_for_travelers  \\\n0                          4-Apr                                      \n1                         28-Mar                      All Travelers   \n2                         31-Mar                From Certain States   \n\n  non-essential_business_closures       large_gatherings_ban  \\\n0    All Non-Essential Businesses      >10 People Prohibited   \n1    All Non-Essential Businesses  All Gatherings Prohibited   \n2    All Non-Essential Businesses      >10 People Prohibited   \n\n          school_closures               bar/restaurant_limits  \\\n0  Closed for School Year  Closed Except for Takeout/Delivery   \n1  Closed for School Year  Closed Except for Takeout/Delivery   \n2  Closed for School Year  Closed Except for Takeout/Delivery   \n\n  primary_election_postponement  ... date_of_state_emergency_declared  \\\n0                           Yes  ...                           13-Mar   \n1                                ...                           11-Mar   \n2                                ...                           11-Mar   \n\n  waive_cost_sharing_for_covid-19_treatment free_cost_vaccine_when_available  \\\n0                                                                              \n1                                                                              \n2                                                                              \n\n  state_requires_waiver_of_prior_authorization_requirements  \\\n0                                                             \n1                                                             \n2                                                             \n\n  early_prescription_refills premium_payment_grace_period  \\\n0                                                           \n1             State Requires                 All Policies   \n2                                                           \n\n  marketplace_special_enrollment_period(SEP) section_1135_waiver  \\\n0                                                       Approved   \n1                                                       Approved   \n2                                                       Approved   \n\n  paid_sick_leave daycares  \n0                      Yes  \n1                      Yes  \n2         Enacted      Yes  \n\n[3 rows x 21 columns]",
      "text/html": "<div>\n<style scoped>\n    .dataframe tbody tr th:only-of-type {\n        vertical-align: middle;\n    }\n\n    .dataframe tbody tr th {\n        vertical-align: top;\n    }\n\n    .dataframe thead th {\n        text-align: right;\n    }\n</style>\n<table border=\"1\" class=\"dataframe\">\n  <thead>\n    <tr style=\"text-align: right;\">\n      <th></th>\n      <th>state_name</th>\n      <th>state_is_easing_social_distancing_measures</th>\n      <th>stay_at_home_order</th>\n      <th>date_when_stay_at_home_ordered</th>\n      <th>mandatory_quarantine_for_travelers</th>\n      <th>non-essential_business_closures</th>\n      <th>large_gatherings_ban</th>\n      <th>school_closures</th>\n      <th>bar/restaurant_limits</th>\n      <th>primary_election_postponement</th>\n      <th>...</th>\n      <th>date_of_state_emergency_declared</th>\n      <th>waive_cost_sharing_for_covid-19_treatment</th>\n      <th>free_cost_vaccine_when_available</th>\n      <th>state_requires_waiver_of_prior_authorization_requirements</th>\n      <th>early_prescription_refills</th>\n      <th>premium_payment_grace_period</th>\n      <th>marketplace_special_enrollment_period(SEP)</th>\n      <th>section_1135_waiver</th>\n      <th>paid_sick_leave</th>\n      <th>daycares</th>\n    </tr>\n  </thead>\n  <tbody>\n    <tr>\n      <th>0</th>\n      <td>Alabama</td>\n      <td></td>\n      <td>Statewide</td>\n      <td>4-Apr</td>\n      <td></td>\n      <td>All Non-Essential Businesses</td>\n      <td>&gt;10 People Prohibited</td>\n      <td>Closed for School Year</td>\n      <td>Closed Except for Takeout/Delivery</td>\n      <td>Yes</td>\n      <td>...</td>\n      <td>13-Mar</td>\n      <td></td>\n      <td></td>\n      <td></td>\n      <td></td>\n      <td></td>\n      <td></td>\n      <td>Approved</td>\n      <td></td>\n      <td>Yes</td>\n    </tr>\n    <tr>\n      <th>1</th>\n      <td>Alaska</td>\n      <td></td>\n      <td>Statewide</td>\n      <td>28-Mar</td>\n      <td>All Travelers</td>\n      <td>All Non-Essential Businesses</td>\n      <td>All Gatherings Prohibited</td>\n      <td>Closed for School Year</td>\n      <td>Closed Except for Takeout/Delivery</td>\n      <td></td>\n      <td>...</td>\n      <td>11-Mar</td>\n      <td></td>\n      <td></td>\n      <td></td>\n      <td>State Requires</td>\n      <td>All Policies</td>\n      <td></td>\n      <td>Approved</td>\n      <td></td>\n      <td>Yes</td>\n    </tr>\n    <tr>\n      <th>2</th>\n      <td>Arizona</td>\n      <td></td>\n      <td>Statewide</td>\n      <td>31-Mar</td>\n      <td>From Certain States</td>\n      <td>All Non-Essential Businesses</td>\n      <td>&gt;10 People Prohibited</td>\n      <td>Closed for School Year</td>\n      <td>Closed Except for Takeout/Delivery</td>\n      <td></td>\n      <td>...</td>\n      <td>11-Mar</td>\n      <td></td>\n      <td></td>\n      <td></td>\n      <td></td>\n      <td></td>\n      <td></td>\n      <td>Approved</td>\n      <td>Enacted</td>\n      <td>Yes</td>\n    </tr>\n  </tbody>\n</table>\n<p>3 rows × 21 columns</p>\n</div>"
     },
     "metadata": {},
     "execution_count": 28
    }
   ],
   "source": [
    "def name_form(column_name):\n",
    "    lists = column_name.split(\" \")\n",
    "    return '_'.join(lists)\n",
    "\n",
    "state_merged.columns=state_merged.columns.map(lambda x:name_form(x))\n",
    "\n",
    "#change column sequence\n",
    "df_date1=state_merged.date_when_stay_at_home_ordered\n",
    "df_date2=state_merged.date_of_state_emergency_declared\n",
    "state_merged=state_merged.drop('date_when_stay_at_home_ordered',axis=1)\n",
    "state_merged=state_merged.drop('date_of_state_emergency_declared',axis=1)\n",
    "state_merged.insert(3,'date_when_stay_at_home_ordered',df_date1)\n",
    "state_merged.insert(11,'date_of_state_emergency_declared',df_date2)\n",
    "\n",
    "#replace '-' with empty string\n",
    "for col in state_merged.columns:\n",
    "    state_merged[col] = state_merged[col].map(lambda x: '' if x == '-' else x)\n",
    "\n",
    "state_merged.head(3)"
   ]
  },
  {
   "cell_type": "code",
   "execution_count": 29,
   "metadata": {},
   "outputs": [],
   "source": [
    "# write to output file in processed_data folder\n",
    "state_merged.to_csv('./processed_data/state_responses.csv', index=False)"
   ]
  },
  {
   "cell_type": "markdown",
   "metadata": {},
   "source": [
    "For the third table `state_cases.csv`, we will collect the timeseries data, each containing the following attributes:"
   ]
  },
  {
   "cell_type": "markdown",
   "metadata": {},
   "source": [
    "| name  | meaning  | source  |\n",
    "| :---- | :------- | :------ |\n",
    "| `date` | date | `covid-tracking-states-daily` |\n",
    "| `state_name` | state name | `covid-tracking-states-daily` |\n",
    "| `totaltestresults` | the number of test results| `covid-tracking-states-daily` |\n",
    "| `confirmed` | the number of confirmed cases | `covid-tracking-states-daily` |\n",
    "| `recovered` | the number of recovered cases | `covid-tracking-states-daily` |\n",
    "| `deaths` | death toll | `covid-tracking-states-daily` |"
   ]
  },
  {
   "cell_type": "code",
   "execution_count": 30,
   "metadata": {},
   "outputs": [
    {
     "output_type": "execute_result",
     "data": {
      "text/plain": "       date state  totalTestResults  positive  recovered  death\n0  20200423    AK           12161.0     337.0      209.0    9.0\n1  20200423    AL           52641.0    5778.0        NaN  197.0\n2  20200423    AR           31590.0    2465.0      902.0   45.0",
      "text/html": "<div>\n<style scoped>\n    .dataframe tbody tr th:only-of-type {\n        vertical-align: middle;\n    }\n\n    .dataframe tbody tr th {\n        vertical-align: top;\n    }\n\n    .dataframe thead th {\n        text-align: right;\n    }\n</style>\n<table border=\"1\" class=\"dataframe\">\n  <thead>\n    <tr style=\"text-align: right;\">\n      <th></th>\n      <th>date</th>\n      <th>state</th>\n      <th>totalTestResults</th>\n      <th>positive</th>\n      <th>recovered</th>\n      <th>death</th>\n    </tr>\n  </thead>\n  <tbody>\n    <tr>\n      <th>0</th>\n      <td>20200423</td>\n      <td>AK</td>\n      <td>12161.0</td>\n      <td>337.0</td>\n      <td>209.0</td>\n      <td>9.0</td>\n    </tr>\n    <tr>\n      <th>1</th>\n      <td>20200423</td>\n      <td>AL</td>\n      <td>52641.0</td>\n      <td>5778.0</td>\n      <td>NaN</td>\n      <td>197.0</td>\n    </tr>\n    <tr>\n      <th>2</th>\n      <td>20200423</td>\n      <td>AR</td>\n      <td>31590.0</td>\n      <td>2465.0</td>\n      <td>902.0</td>\n      <td>45.0</td>\n    </tr>\n  </tbody>\n</table>\n</div>"
     },
     "metadata": {},
     "execution_count": 30
    }
   ],
   "source": [
    "state_cases_df=pd.read_csv('./data/covid-tracking/states_daily_4pm_et.csv')\n",
    "state_cases=state_cases_df[['date','state','totalTestResults','positive','recovered','death']]\n",
    "state_cases.head(3)"
   ]
  },
  {
   "cell_type": "code",
   "execution_count": 31,
   "metadata": {},
   "outputs": [
    {
     "output_type": "execute_result",
     "data": {
      "text/plain": "       date state_name  totaltestresults  confirmed  recovered  deaths\n0  20200423         AK           12161.0      337.0      209.0     9.0\n1  20200423         AL           52641.0     5778.0        NaN   197.0\n2  20200423         AR           31590.0     2465.0      902.0    45.0",
      "text/html": "<div>\n<style scoped>\n    .dataframe tbody tr th:only-of-type {\n        vertical-align: middle;\n    }\n\n    .dataframe tbody tr th {\n        vertical-align: top;\n    }\n\n    .dataframe thead th {\n        text-align: right;\n    }\n</style>\n<table border=\"1\" class=\"dataframe\">\n  <thead>\n    <tr style=\"text-align: right;\">\n      <th></th>\n      <th>date</th>\n      <th>state_name</th>\n      <th>totaltestresults</th>\n      <th>confirmed</th>\n      <th>recovered</th>\n      <th>deaths</th>\n    </tr>\n  </thead>\n  <tbody>\n    <tr>\n      <th>0</th>\n      <td>20200423</td>\n      <td>AK</td>\n      <td>12161.0</td>\n      <td>337.0</td>\n      <td>209.0</td>\n      <td>9.0</td>\n    </tr>\n    <tr>\n      <th>1</th>\n      <td>20200423</td>\n      <td>AL</td>\n      <td>52641.0</td>\n      <td>5778.0</td>\n      <td>NaN</td>\n      <td>197.0</td>\n    </tr>\n    <tr>\n      <th>2</th>\n      <td>20200423</td>\n      <td>AR</td>\n      <td>31590.0</td>\n      <td>2465.0</td>\n      <td>902.0</td>\n      <td>45.0</td>\n    </tr>\n  </tbody>\n</table>\n</div>"
     },
     "metadata": {},
     "execution_count": 31
    }
   ],
   "source": [
    "#change column name\n",
    "state_cases.columns=state_cases.columns.map(lambda x:x.lower())\n",
    "\n",
    "state_cases.rename(columns={\n",
    "    'state':'state_name',\n",
    "    'positive':'confirmed',\n",
    "    'death':'deaths'\n",
    "}, inplace=True)\n",
    "\n",
    "state_cases.head(3)\n"
   ]
  },
  {
   "cell_type": "code",
   "execution_count": 32,
   "metadata": {},
   "outputs": [
    {
     "output_type": "execute_result",
     "data": {
      "text/plain": "       date state_name  totaltestresults  confirmed  recovered  deaths\n0  20200423     Alaska           12161.0      337.0      209.0     9.0\n1  20200423    Alabama           52641.0     5778.0        NaN   197.0\n2  20200423   Arkansas           31590.0     2465.0      902.0    45.0",
      "text/html": "<div>\n<style scoped>\n    .dataframe tbody tr th:only-of-type {\n        vertical-align: middle;\n    }\n\n    .dataframe tbody tr th {\n        vertical-align: top;\n    }\n\n    .dataframe thead th {\n        text-align: right;\n    }\n</style>\n<table border=\"1\" class=\"dataframe\">\n  <thead>\n    <tr style=\"text-align: right;\">\n      <th></th>\n      <th>date</th>\n      <th>state_name</th>\n      <th>totaltestresults</th>\n      <th>confirmed</th>\n      <th>recovered</th>\n      <th>deaths</th>\n    </tr>\n  </thead>\n  <tbody>\n    <tr>\n      <th>0</th>\n      <td>20200423</td>\n      <td>Alaska</td>\n      <td>12161.0</td>\n      <td>337.0</td>\n      <td>209.0</td>\n      <td>9.0</td>\n    </tr>\n    <tr>\n      <th>1</th>\n      <td>20200423</td>\n      <td>Alabama</td>\n      <td>52641.0</td>\n      <td>5778.0</td>\n      <td>NaN</td>\n      <td>197.0</td>\n    </tr>\n    <tr>\n      <th>2</th>\n      <td>20200423</td>\n      <td>Arkansas</td>\n      <td>31590.0</td>\n      <td>2465.0</td>\n      <td>902.0</td>\n      <td>45.0</td>\n    </tr>\n  </tbody>\n</table>\n</div>"
     },
     "metadata": {},
     "execution_count": 32
    }
   ],
   "source": [
    "#change state code to state name\n",
    "statecode = {\n",
    "        'AK': 'Alaska',\n",
    "        'AL': 'Alabama',\n",
    "        'AR': 'Arkansas',\n",
    "        'AS': 'American Samoa',\n",
    "        'AZ': 'Arizona',\n",
    "        'CA': 'California',\n",
    "        'CO': 'Colorado',\n",
    "        'CT': 'Connecticut',\n",
    "        'DC': 'District of Columbia',\n",
    "        'DE': 'Delaware',\n",
    "        'FL': 'Florida',\n",
    "        'GA': 'Georgia',\n",
    "        'GU': 'Guam',\n",
    "        'HI': 'Hawaii',\n",
    "        'IA': 'Iowa',\n",
    "        'ID': 'Idaho',\n",
    "        'IL': 'Illinois',\n",
    "        'IN': 'Indiana',\n",
    "        'KS': 'Kansas',\n",
    "        'KY': 'Kentucky',\n",
    "        'LA': 'Louisiana',\n",
    "        'MA': 'Massachusetts',\n",
    "        'MD': 'Maryland',\n",
    "        'ME': 'Maine',\n",
    "        'MI': 'Michigan',\n",
    "        'MN': 'Minnesota',\n",
    "        'MO': 'Missouri',\n",
    "        'MP': 'Northern Mariana Islands',\n",
    "        'MS': 'Mississippi',\n",
    "        'MT': 'Montana',\n",
    "        'NA': 'National',\n",
    "        'NC': 'North Carolina',\n",
    "        'ND': 'North Dakota',\n",
    "        'NE': 'Nebraska',\n",
    "        'NH': 'New Hampshire',\n",
    "        'NJ': 'New Jersey',\n",
    "        'NM': 'New Mexico',\n",
    "        'NV': 'Nevada',\n",
    "        'NY': 'New York',\n",
    "        'OH': 'Ohio',\n",
    "        'OK': 'Oklahoma',\n",
    "        'OR': 'Oregon',\n",
    "        'PA': 'Pennsylvania',\n",
    "        'PR': 'Puerto Rico',\n",
    "        'RI': 'Rhode Island',\n",
    "        'SC': 'South Carolina',\n",
    "        'SD': 'South Dakota',\n",
    "        'TN': 'Tennessee',\n",
    "        'TX': 'Texas',\n",
    "        'UT': 'Utah',\n",
    "        'VA': 'Virginia',\n",
    "        'VI': 'Virgin Islands',\n",
    "        'VT': 'Vermont',\n",
    "        'WA': 'Washington',\n",
    "        'WI': 'Wisconsin',\n",
    "        'WV': 'West Virginia',\n",
    "        'WY': 'Wyoming'\n",
    "}\n",
    "\n",
    "state_cases.state_name=state_cases.state_name.map(lambda x: statecode[x])\n",
    "state_cases.head(3)"
   ]
  },
  {
   "cell_type": "markdown",
   "metadata": {},
   "source": [
    "Check if state names in state_cases and state_actions are the same."
   ]
  },
  {
   "cell_type": "code",
   "execution_count": 33,
   "metadata": {},
   "outputs": [
    {
     "output_type": "stream",
     "name": "stdout",
     "text": "names with no matches: \n\nKFF dataset: set()\n\nCOVID-tracking dataset: {'Puerto Rico', 'Virgin Islands', 'Guam', 'American Samoa', 'Northern Mariana Islands'}\n\n"
    }
   ],
   "source": [
    "# state names in kff dataset \n",
    "states1 = set(state_actions['state_name'])\n",
    "\n",
    "# country names in covid-tracking datasets \n",
    "states2 = set(state_cases['state_name'])\n",
    "\n",
    "# names common to both dataset\n",
    "common_states = states1 & states2\n",
    "\n",
    "print('names with no matches: \\n')\n",
    "print(f'KFF dataset: {states1-common_states}\\n')\n",
    "print(f'COVID-tracking dataset: {states2-common_states}\\n')"
   ]
  },
  {
   "cell_type": "markdown",
   "metadata": {},
   "source": [
    "After inspecting the output, we see that KFF dataset does not have the territory record. Therefore, the following records are removed.\n",
    "\n",
    "- Puerto Rico\n",
    "- Northern Mariana Islands\n",
    "- Guam\n",
    "- Virgin Islands\n",
    "- American Samoa\n"
   ]
  },
  {
   "cell_type": "code",
   "execution_count": 34,
   "metadata": {},
   "outputs": [
    {
     "output_type": "execute_result",
     "data": {
      "text/plain": "       date state_name  totaltestresults  confirmed  recovered  deaths\n0  20200423     Alaska           12161.0      337.0      209.0     9.0\n1  20200423    Alabama           52641.0     5778.0        NaN   197.0\n2  20200423   Arkansas           31590.0     2465.0      902.0    45.0",
      "text/html": "<div>\n<style scoped>\n    .dataframe tbody tr th:only-of-type {\n        vertical-align: middle;\n    }\n\n    .dataframe tbody tr th {\n        vertical-align: top;\n    }\n\n    .dataframe thead th {\n        text-align: right;\n    }\n</style>\n<table border=\"1\" class=\"dataframe\">\n  <thead>\n    <tr style=\"text-align: right;\">\n      <th></th>\n      <th>date</th>\n      <th>state_name</th>\n      <th>totaltestresults</th>\n      <th>confirmed</th>\n      <th>recovered</th>\n      <th>deaths</th>\n    </tr>\n  </thead>\n  <tbody>\n    <tr>\n      <th>0</th>\n      <td>20200423</td>\n      <td>Alaska</td>\n      <td>12161.0</td>\n      <td>337.0</td>\n      <td>209.0</td>\n      <td>9.0</td>\n    </tr>\n    <tr>\n      <th>1</th>\n      <td>20200423</td>\n      <td>Alabama</td>\n      <td>52641.0</td>\n      <td>5778.0</td>\n      <td>NaN</td>\n      <td>197.0</td>\n    </tr>\n    <tr>\n      <th>2</th>\n      <td>20200423</td>\n      <td>Arkansas</td>\n      <td>31590.0</td>\n      <td>2465.0</td>\n      <td>902.0</td>\n      <td>45.0</td>\n    </tr>\n  </tbody>\n</table>\n</div>"
     },
     "metadata": {},
     "execution_count": 34
    }
   ],
   "source": [
    "#remove territory records\n",
    "state_cases=state_cases.drop(state_cases[state_cases.state_name==\"Puerto Rico\"].index)\n",
    "state_cases=state_cases.drop(state_cases[state_cases.state_name==\"Northern Mariana Islands\"].index)\n",
    "state_cases=state_cases.drop(state_cases[state_cases.state_name==\"Guam\"].index)\n",
    "state_cases=state_cases.drop(state_cases[state_cases.state_name==\"Virgin Islands\"].index)\n",
    "state_cases=state_cases.drop(state_cases[state_cases.state_name==\"American Samoa\"].index)\n",
    "state_cases=state_cases.reset_index(drop=True)\n",
    "\n",
    "state_cases.head(3)"
   ]
  },
  {
   "cell_type": "code",
   "execution_count": 35,
   "metadata": {},
   "outputs": [],
   "source": [
    "# write to output file in processed_data folder\n",
    "state_cases.to_csv('./processed_data/state_cases.csv', index=False)"
   ]
  }
 ],
 "metadata": {
  "kernelspec": {
   "display_name": "Python 3",
   "language": "python",
   "name": "python3"
  },
  "language_info": {
   "codemirror_mode": {
    "name": "ipython",
    "version": 3
   },
   "file_extension": ".py",
   "mimetype": "text/x-python",
   "name": "python",
   "nbconvert_exporter": "python",
   "pygments_lexer": "ipython3",
   "version": "3.8.0-final"
  }
 },
 "nbformat": 4,
 "nbformat_minor": 4
}